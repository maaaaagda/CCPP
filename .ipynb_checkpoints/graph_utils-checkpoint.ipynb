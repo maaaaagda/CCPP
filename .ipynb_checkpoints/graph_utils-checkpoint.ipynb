{
 "cells": [
  {
   "cell_type": "code",
   "execution_count": 1,
   "metadata": {},
   "outputs": [],
   "source": [
    "import networkx as nx\n",
    "import matplotlib.pyplot as plt\n",
    "\n",
    "class Graph:\n",
    "    def __init__ (self):\n",
    "        self.graph = None\n",
    "        \n",
    "    def readGraph(self, file_name):\n",
    "        G = nx.read_gml(file_name)\n",
    "        \n",
    "        # remove virtual nodes without location\n",
    "        nodes_without_location = []\n",
    "        for i in G.nodes:\n",
    "            if not 'Latitude' in G.nodes[i]:\n",
    "                nodes_without_location.append(i)\n",
    "        for i in nodes_without_location:\n",
    "            G.remove_node(i)\n",
    "        self.graph = G\n",
    "        \n",
    "    def getGraph(self):\n",
    "        return self.graph\n",
    "            \n",
    "    def showGraph(self):\n",
    "        \n",
    "        # get longitude and latitude of nodes    \n",
    "        lat_dict, lng_dict = self.getGraphNodeCoordinates()\n",
    "        cities_dict = lat_dict.keys()\n",
    "\n",
    "        lat = list(lat_dict.values())\n",
    "        lng = list(lng_dict.values())\n",
    "        cities = list(lat_dict)\n",
    "\n",
    "        poss = {cities[i]:(lng[i], lat[i]) for i in range(0,len(lat))}\n",
    "        fig, ax = plt.subplots(figsize=(15,15))\n",
    "        nx.draw_networkx(self.graph, pos=poss, with_labels=True, font_weight='bold')\n",
    "    \n",
    "    def getGraphNodeCoordinates(self, returnValues = False):\n",
    "        lat_dict, lng_dict = nx.get_node_attributes(self.graph, 'Latitude'), nx.get_node_attributes(self.graph, 'Longitude')\n",
    "        if(returnValues):\n",
    "            return (list(lat_dict.values()), list(lng_dict.values()))\n",
    "        return (lat_dict, lng_dict)"
   ]
  }
 ],
 "metadata": {
  "kernelspec": {
   "display_name": "Python 3",
   "language": "python",
   "name": "python3"
  },
  "language_info": {
   "codemirror_mode": {
    "name": "ipython",
    "version": 3
   },
   "file_extension": ".py",
   "mimetype": "text/x-python",
   "name": "python",
   "nbconvert_exporter": "python",
   "pygments_lexer": "ipython3",
   "version": "3.7.2"
  }
 },
 "nbformat": 4,
 "nbformat_minor": 2
}
