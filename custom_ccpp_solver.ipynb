{
 "cells": [
  {
   "cell_type": "markdown",
   "metadata": {},
   "source": [
    "<h1> Define constants and variables </h1>"
   ]
  },
  {
   "cell_type": "code",
   "execution_count": 1,
   "metadata": {},
   "outputs": [],
   "source": [
    "import numpy as np\n",
    "import networkx as nx\n",
    "import matplotlib.pyplot as plt\n",
    "from docplex.mp.model import Model\n",
    "\n",
    "class CustomCCPPSolver:\n",
    "    def __init__(self, params):\n",
    "        self.solution = None\n",
    "        self.params = params\n",
    "        \n",
    "    def solve(self):\n",
    "        (K, V, V_count, theta, L, l_i, V_loc_x, V_loc_y, E, d, TV, SV, G) = self.params\n",
    "        radius = CapControllerPlacement(V, d, l_i, L, K)\n",
    "        if(radius > 0):\n",
    "            solution = SP(radius, V, d, l_i, L)\n",
    "            self.solution = solution\n",
    "        else:\n",
    "            print(\"No solution for given constraints\")\n",
    "        \n",
    "    def plotSolution(self):\n",
    "        if self.solution:\n",
    "            (K, V, V_count, theta, L, l_i, V_loc_x, V_loc_y, E, d, TV, SV, G) = self.params\n",
    "            G_nodes = list(G.nodes)\n",
    "            num_of_controllers, y_j, x_ij = self.solution\n",
    "            colors = {}\n",
    "            fig, ax = plt.subplots(figsize=(15,15))\n",
    "            active_arcs = [a for a in x_ij if x_ij[a].solution_value>0.9]\n",
    "\n",
    "            for i,j in active_arcs:\n",
    "                path = nx.shortest_path(G, G_nodes[i], G_nodes[j], 'weight')\n",
    "                if not path[-1] in colors:\n",
    "                    colors[path[-1]] = np.random.rand(3,)\n",
    "\n",
    "                for k in range(0, len(path)-1):\n",
    "                    vi = G_nodes.index(path[k])\n",
    "                    vj = G_nodes.index(path[k+1])\n",
    "                    plt.plot([V_loc_x[vi], V_loc_x[vj]], [V_loc_y[vi], V_loc_y[vj]],c = colors[path[-1]], linewidth=4)\n",
    "                    if k == len(path)-2:\n",
    "                        plt.plot(V_loc_x[vj], V_loc_y[vj], c=colors[path[-1]], marker='s', markersize=15)\n",
    "\n",
    "                if len(path)-1 == 0:\n",
    "                    vi = G_nodes.index(path[0])\n",
    "                    plt.plot(V_loc_x[vi], V_loc_y[vi], c=colors[path[-1]], marker='s', markersize=15)\n",
    "            plt.scatter(V_loc_x[:], V_loc_y[:])\n",
    "            for i in V:\n",
    "                plt.annotate('   $%s$' % (G_nodes[i]), (V_loc_x[i], V_loc_y[i]))\n",
    "                plt.axis('equal')\n",
    "        else:\n",
    "            print('No solution to plot')\n",
    "        "
   ]
  },
  {
   "cell_type": "code",
   "execution_count": 2,
   "metadata": {
    "scrolled": false
   },
   "outputs": [],
   "source": [
    "def i_indexesM(ij_pairs):\n",
    "    return list(set([x[0] for x in ij_pairs]))\n",
    "\n",
    "\n",
    "def j_indexes(xPairs, i):\n",
    "    return map(lambda x: x[1], list(filter(lambda x: x[0] == i, xPairs)))\n",
    "\n",
    "\n",
    "def j_indexesM(ij_pairs):\n",
    "    return list(set([x[1] for x in ij_pairs]))\n",
    "\n",
    "\n",
    "def i_indexes(xPairs, j):\n",
    "    return map(lambda x: x[0], list(filter(lambda x: x[1] == j, xPairs)))"
   ]
  },
  {
   "cell_type": "markdown",
   "metadata": {},
   "source": [
    "<h2> Subproblem SP - minimizing the number of factories for given radius</h2>"
   ]
  },
  {
   "cell_type": "code",
   "execution_count": 3,
   "metadata": {},
   "outputs": [],
   "source": [
    "def SP(eps, nodes, d, h, Q):\n",
    "    mdl = Model('CCPP',checker=False)\n",
    "\n",
    "    # zmienne lokalizacji\n",
    "    y_j = mdl.binary_var_dict(nodes, name=\"y_j\")\n",
    "\n",
    "    # pary (i,j) takie, ze d_ij <= epsilon\n",
    "    xPairs = []\n",
    "    for i in range(np.size(nodes)):\n",
    "        for j in range(np.size(nodes)):\n",
    "            if d[i, j] <= eps:\n",
    "                xPairs.append((i, j))\n",
    "    # zmienne przypisania\n",
    "    x_ij = mdl.binary_var_dict(xPairs, name=\"x_ij\")\n",
    "\n",
    "    \n",
    "    # minimalizuj liczbe fabryk\n",
    "    mdl.minimize(mdl.sum(y_j[i] for i in nodes))\n",
    "\n",
    "    \n",
    "    # kazdy klient do jednej fabryki\n",
    "    mdl.add_constraints(mdl.sum(x_ij[i, j] for j in j_indexes(xPairs, i)) == 1 for i in i_indexesM(xPairs))\n",
    "   \n",
    "    # dla kazdej fabryki, suma zapotrzebowania klientow mniejsza lub rowna pojemnosci fabryki\n",
    "    mdl.add_constraints(mdl.sum(h[i] * x_ij[i, j] for i in i_indexes(xPairs, j)) <= Q[j] \n",
    "                        for j in j_indexesM(xPairs))\n",
    "    \n",
    "    # klient moze byc przypisany do istniejacej fabryki\n",
    "    mdl.add_constraints(x_ij[i, j] <= y_j[j] for (i, j) in xPairs)\n",
    "\n",
    "    \n",
    "    mdl.parameters.timelimit = 30\n",
    "    solution = mdl.solve()\n",
    "    if solution:\n",
    "        number_of_controllers = int(sum([y_j[a].solution_value for a in nodes]))\n",
    "        return number_of_controllers, y_j, x_ij\n",
    "    return -1"
   ]
  },
  {
   "cell_type": "markdown",
   "metadata": {},
   "source": [
    "<h2> Linear relaxation of x_ij variable in subproblem SP (binary variable changed to continuous variable) </h2>"
   ]
  },
  {
   "cell_type": "code",
   "execution_count": 4,
   "metadata": {},
   "outputs": [],
   "source": [
    "def SP_LR(eps, nodes, d, h, Q):\n",
    "    from docplex.mp.model import Model\n",
    "    mdl = Model('CCPP')\n",
    "\n",
    "    # zmienne lokalizacji\n",
    "    y_j = mdl.binary_var_dict(nodes, name=\"y_j\")\n",
    "\n",
    "    # pary (i,j) takie, ze d_ij <= epsilon\n",
    "    xPairs = []\n",
    "    for i in range(np.size(nodes)):\n",
    "        for j in range(np.size(nodes)):\n",
    "            if d[i, j] <= eps:\n",
    "                xPairs.append((i, j))\n",
    "    # zmienne przypisania\n",
    "    x_ij = mdl.continuous_var_dict(xPairs, name=\"x_ij\")\n",
    "\n",
    "    \n",
    "    # minimalizuj liczbe fabryk\n",
    "    mdl.minimize(mdl.sum(y_j[i] for i in nodes))\n",
    "\n",
    "    \n",
    "    # kazdy klient do jednej fabryki\n",
    "    mdl.add_constraints(mdl.sum(x_ij[i, j] for j in j_indexes(xPairs, i)) == 1 for i in i_indexesM(xPairs))\n",
    "   \n",
    "    # dla kazdej fabryki, suma zapotrzebowania klientow mniejsza lub rowna pojemnosci fabryki\n",
    "    mdl.add_constraints(mdl.sum(h[i] * x_ij[i, j] for i in i_indexes(xPairs, j)) <= Q[j] \n",
    "                        for j in j_indexesM(xPairs))\n",
    "    \n",
    "    # klient moze byc przypisany do istniejacej fabryki\n",
    "    mdl.add_constraints(x_ij[i, j] <= y_j[j] for (i, j) in xPairs)\n",
    "    \n",
    "    # 0 <= x_ij <= 1.0 \n",
    "    mdl.add_constraints(x_ij[i, j] <= 1.0 for (i, j) in xPairs)\n",
    "    mdl.add_constraints(x_ij[i, j] >= 0.0 for (i, j) in xPairs)\n",
    "\n",
    "    \n",
    "    mdl.parameters.timelimit = 30\n",
    "    solution = mdl.solve()\n",
    "    if solution:\n",
    "        number_of_controllers = int(sum([y_j[a].solution_value for a in nodes]))\n",
    "        return number_of_controllers, y_j, x_ij\n",
    "    return -1"
   ]
  },
  {
   "cell_type": "markdown",
   "metadata": {},
   "source": [
    "<h2>The algorithm </h2>"
   ]
  },
  {
   "cell_type": "code",
   "execution_count": 5,
   "metadata": {
    "scrolled": true
   },
   "outputs": [],
   "source": [
    "def CapControllerPlacement(nodes, d, l_i, L, K):                   \n",
    "    disArray = list(set(np.array(d).flatten().tolist()))\n",
    "    disArray.sort()\n",
    "    lower = 0\n",
    "    upper = len(disArray) - 1\n",
    "    while lower < upper:\n",
    "        mid = (lower + upper)//2\n",
    "        r = disArray[mid]\n",
    "        num_of_controllers,_,_ = SP_LR(r, nodes, d, l_i, L)\n",
    "        if num_of_controllers > K:\n",
    "            lower = mid + 1\n",
    "        else:\n",
    "            upper = mid\n",
    "    index = lower\n",
    "    num_of_controllers,_,_ = SP(disArray[mid], nodes, d, l_i, L)\n",
    "    \n",
    "    while num_of_controllers > K:\n",
    "        index += 1\n",
    "        if(index >= len(disArray)):\n",
    "            return -1;\n",
    "        num_of_controllers,_,_ = SP(disArray[index], nodes, d, l_i, L)\n",
    "    return disArray[index]"
   ]
  }
 ],
 "metadata": {
  "kernelspec": {
   "display_name": "Python 3",
   "language": "python",
   "name": "python3"
  },
  "language_info": {
   "codemirror_mode": {
    "name": "ipython",
    "version": 3
   },
   "file_extension": ".py",
   "mimetype": "text/x-python",
   "name": "python",
   "nbconvert_exporter": "python",
   "pygments_lexer": "ipython3",
   "version": "3.7.2"
  }
 },
 "nbformat": 4,
 "nbformat_minor": 2
}
